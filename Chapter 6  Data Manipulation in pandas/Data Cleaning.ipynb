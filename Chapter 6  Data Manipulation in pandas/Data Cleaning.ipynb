{
 "cells": [
  {
   "cell_type": "code",
   "execution_count": 3,
   "id": "de907e16-ff01-434d-9631-b58222cd7ddd",
   "metadata": {},
   "outputs": [
    {
     "name": "stdout",
     "output_type": "stream",
     "text": [
      "       ball  mug  pen\n",
      "blue    6.0  3.0    6\n",
      "green   NaN  NaN    4\n",
      "red     2.0  NaN    5\n",
      "\n",
      "      ball  mug  pen\n",
      "blue   6.0  3.0    6\n",
      "\n",
      "       pen\n",
      "blue     6\n",
      "green    4\n",
      "red      5\n"
     ]
    }
   ],
   "source": [
    "import pandas as pd\n",
    "import numpy as np\n",
    "df = pd.DataFrame([[6,3,6],[np.nan,np.nan,4],[2,np.nan,5]],\n",
    "                      index = ['blue','green','red'],\n",
    "                      columns = ['ball','mug','pen'])\n",
    "print(f\"{df}\\n\")\n",
    "print(f\"{df.dropna()}\\n\")\n",
    "print(f\"{df.dropna(axis=1)}\")"
   ]
  },
  {
   "cell_type": "code",
   "execution_count": 4,
   "id": "848738b4-9e2f-457b-9ec0-d023a17ea8d5",
   "metadata": {},
   "outputs": [
    {
     "name": "stdout",
     "output_type": "stream",
     "text": [
      "       ball  mug  pen\n",
      "blue    6.0  3.0    6\n",
      "green   NaN  NaN    4\n",
      "red     2.0  NaN    5\n",
      "\n",
      "       ball  mug  pen\n",
      "blue    6.0  3.0    6\n",
      "green   0.0  0.0    4\n",
      "red     2.0  0.0    5\n",
      "\n",
      "       ball  mug  pen\n",
      "blue    6.0  3.0    6\n",
      "green   6.0  3.0    4\n",
      "red     2.0  3.0    5\n",
      "\n",
      "       ball  mug  pen\n",
      "blue    6.0  3.0    6\n",
      "green   2.0  NaN    4\n",
      "red     2.0  NaN    5\n",
      "\n"
     ]
    },
    {
     "name": "stderr",
     "output_type": "stream",
     "text": [
      "/tmp/ipykernel_166701/3986722073.py:3: FutureWarning: DataFrame.fillna with 'method' is deprecated and will raise in a future version. Use obj.ffill() or obj.bfill() instead.\n",
      "  print(f\"{df.fillna(method='ffill')}\\n\")\n",
      "/tmp/ipykernel_166701/3986722073.py:4: FutureWarning: DataFrame.fillna with 'method' is deprecated and will raise in a future version. Use obj.ffill() or obj.bfill() instead.\n",
      "  print(f\"{df.fillna(method='bfill')}\\n\")\n"
     ]
    }
   ],
   "source": [
    "print(f\"{df}\\n\")\n",
    "print(f\"{df.fillna(0)}\\n\") \n",
    "print(f\"{df.fillna(method='ffill')}\\n\") \n",
    "print(f\"{df.fillna(method='bfill')}\\n\") "
   ]
  },
  {
   "cell_type": "code",
   "execution_count": null,
   "id": "70ff152c-1314-464e-9182-3118d2f21054",
   "metadata": {},
   "outputs": [],
   "source": []
  }
 ],
 "metadata": {
  "kernelspec": {
   "display_name": "Python [conda env:base] *",
   "language": "python",
   "name": "conda-base-py"
  },
  "language_info": {
   "codemirror_mode": {
    "name": "ipython",
    "version": 3
   },
   "file_extension": ".py",
   "mimetype": "text/x-python",
   "name": "python",
   "nbconvert_exporter": "python",
   "pygments_lexer": "ipython3",
   "version": "3.11.7"
  }
 },
 "nbformat": 4,
 "nbformat_minor": 5
}
