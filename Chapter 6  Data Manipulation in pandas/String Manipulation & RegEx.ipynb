{
 "cells": [
  {
   "cell_type": "code",
   "execution_count": 21,
   "id": "f48e6af3-ebe9-4d80-9ab3-22a6737a1446",
   "metadata": {},
   "outputs": [
    {
     "name": "stdout",
     "output_type": "stream",
     "text": [
      "Original Data:\n",
      "             Name                       Email\n",
      "0   Sonu Awasthi  Mayankawasthiiitr@mail.com\n",
      "1  Chintu_Sharma        chintu_gargi@mail.in\n",
      "2   Potter.Saini       potter.high@gmail.com\n",
      "UPPERCASE:\n",
      "0     SONU AWASTHI\n",
      "1    CHINTU_SHARMA\n",
      "2     POTTER.SAINI\n",
      "Name: Name, dtype: object\n",
      "\n",
      "LOWERCASE:\n",
      "0     sonu awasthi\n",
      "1    chintu_sharma\n",
      "2     potter.saini\n",
      "Name: Name, dtype: object\n",
      "\n",
      "CONTAINS 'u':\n",
      "0     True\n",
      "1     True\n",
      "2    False\n",
      "Name: Name, dtype: bool\n",
      "\n",
      "STRIPPED:\n",
      "0     Sonu Awasthi\n",
      "1    Chintu_Sharma\n",
      "2     Potter.Saini\n",
      "Name: Name, dtype: object\n",
      "\n",
      "REPLACED 'u' WITH '*':\n",
      "0     Son* Awasthi\n",
      "1    Chint*_Sharma\n",
      "2     Potter.Saini\n",
      "Name: Name, dtype: object\n"
     ]
    }
   ],
   "source": [
    "import pandas as pd\n",
    "\n",
    "df = pd.DataFrame({\n",
    "    'Name': ['Sonu Awasthi', 'Chintu_Sharma', 'Potter.Saini'],\n",
    "    'Email': ['Mayankawasthiiitr@mail.com', 'chintu_gargi@mail.in', 'potter.high@gmail.com']\n",
    "})\n",
    "print(f\"Original Data:\\n\",df)\n",
    "print(f\"UPPERCASE:\\n{df['Name'].str.upper()}\\n\\n\"\n",
    "    f\"LOWERCASE:\\n{df['Name'].str.lower()}\\n\\n\"\n",
    "    f\"CONTAINS 'u':\\n{df['Name'].str.contains('u')}\\n\\n\"\n",
    "    f\"STRIPPED:\\n{df['Name'].str.strip()}\\n\\n\"\n",
    "    f\"REPLACED 'u' WITH '*':\\n{df['Name'].str.replace('u', '*')}\")"
   ]
  },
  {
   "cell_type": "code",
   "execution_count": 48,
   "id": "b33f0bc4-4dc1-497b-a990-2be221091526",
   "metadata": {},
   "outputs": [
    {
     "name": "stdout",
     "output_type": "stream",
     "text": [
      "      Clean_Name\n",
      "0   Sonu Awasthi\n",
      "1  Chintu Sharma\n",
      "2   Potter Saini\n",
      "\n",
      "            Username\n",
      "0  Mayankawasthiiitr\n",
      "1       chintu_gargi\n",
      "2        potter.high\n",
      "\n",
      "                  Clean_Email\n",
      "0  Mayankawasthiiitr@mail.com\n",
      "1        chintu_gargi@mail.in\n",
      "2       potter.high@gmail.com\n"
     ]
    }
   ],
   "source": [
    "df['Clean_Name'] = df['Name'].str.replace(r'[\\W_]+', ' ', regex=True)\n",
    "df['Username'] = df['Email'].str.extract(r'(^[\\w\\.]+)')\n",
    "df['Clean_Email'] = df['Email'].str.replace(r'\\d+', '', regex=True)\n",
    "\n",
    "print(f\"{df[['Clean_Name']]}\\n\\n\"\n",
    "f\"{df[['Username']]}\\n\\n\"\n",
    "f\"{df[['Clean_Email']]}\")"
   ]
  },
  {
   "cell_type": "code",
   "execution_count": null,
   "id": "e38adf6f-0740-4c18-8cf0-567457f5e8f0",
   "metadata": {},
   "outputs": [],
   "source": []
  }
 ],
 "metadata": {
  "kernelspec": {
   "display_name": "Python [conda env:base] *",
   "language": "python",
   "name": "conda-base-py"
  },
  "language_info": {
   "codemirror_mode": {
    "name": "ipython",
    "version": 3
   },
   "file_extension": ".py",
   "mimetype": "text/x-python",
   "name": "python",
   "nbconvert_exporter": "python",
   "pygments_lexer": "ipython3",
   "version": "3.11.7"
  }
 },
 "nbformat": 4,
 "nbformat_minor": 5
}
