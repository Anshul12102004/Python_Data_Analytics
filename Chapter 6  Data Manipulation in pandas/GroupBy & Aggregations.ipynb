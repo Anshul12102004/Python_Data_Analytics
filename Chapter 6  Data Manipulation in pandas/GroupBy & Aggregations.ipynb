{
 "cells": [
  {
   "cell_type": "code",
   "execution_count": 7,
   "id": "cb20ab6a-717e-4926-bf32-9eee8f290b01",
   "metadata": {},
   "outputs": [
    {
     "name": "stdout",
     "output_type": "stream",
     "text": [
      "Average Marks by Student:\n",
      "Name\n",
      "Chintu    79.0\n",
      "Potter    91.0\n",
      "Sonu      86.5\n",
      "Name: Marks, dtype: float64\n",
      "\n",
      "Total Marks by Subject:\n",
      "Subject\n",
      "Math       255\n",
      "Science    167\n",
      "Name: Marks, dtype: int64\n"
     ]
    }
   ],
   "source": [
    "import pandas as pd\n",
    "\n",
    "df = pd.DataFrame({\n",
    "    'Name': ['Sonu', 'Chintu', 'Potter', 'Sonu', 'Chintu'],\n",
    "    'Subject': ['Math', 'Math', 'Math', 'Science', 'Science'],\n",
    "    'Marks': [88, 76, 91, 85, 82]\n",
    "})\n",
    "\n",
    "avg_marks = df.groupby('Name')['Marks'].mean()\n",
    "total_by_subject = df.groupby('Subject')['Marks'].sum()\n",
    "\n",
    "print(f\"Average Marks by Student:\\n{avg_marks}\\n\")\n",
    "print(f\"Total Marks by Subject:\\n{total_by_subject}\")"
   ]
  },
  {
   "cell_type": "code",
   "execution_count": null,
   "id": "6df7be82-ed76-470e-8d2f-26d9afb84107",
   "metadata": {},
   "outputs": [],
   "source": []
  }
 ],
 "metadata": {
  "kernelspec": {
   "display_name": "Python [conda env:base] *",
   "language": "python",
   "name": "conda-base-py"
  },
  "language_info": {
   "codemirror_mode": {
    "name": "ipython",
    "version": 3
   },
   "file_extension": ".py",
   "mimetype": "text/x-python",
   "name": "python",
   "nbconvert_exporter": "python",
   "pygments_lexer": "ipython3",
   "version": "3.11.7"
  }
 },
 "nbformat": 4,
 "nbformat_minor": 5
}
