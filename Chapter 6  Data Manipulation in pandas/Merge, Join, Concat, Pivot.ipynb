{
 "cells": [
  {
   "cell_type": "code",
   "execution_count": 23,
   "id": "7b702747-9c68-4bb9-a616-57f09a260951",
   "metadata": {},
   "outputs": [
    {
     "name": "stdout",
     "output_type": "stream",
     "text": [
      "   ID    Name  Score\n",
      "0   1    Sonu     85\n",
      "1   2  Chintu     90\n"
     ]
    }
   ],
   "source": [
    "import pandas as pd\n",
    "\n",
    "df1 = pd.DataFrame({\n",
    "    'ID': [1, 2, 3],\n",
    "    'Name': ['Sonu', 'Chintu', 'Potter']\n",
    "})\n",
    "\n",
    "df2 = pd.DataFrame({\n",
    "    'ID': [1, 2, 4],\n",
    "    'Score': [85, 90, 75]\n",
    "})\n",
    "\n",
    "print(pd.merge(df1, df2, on='ID', how='inner'))"
   ]
  },
  {
   "cell_type": "code",
   "execution_count": 22,
   "id": "7b6f72f2-7bf4-4daa-93a6-eb292a15648f",
   "metadata": {},
   "outputs": [
    {
     "name": "stdout",
     "output_type": "stream",
     "text": [
      "        Age  Score\n",
      "Sonu     21     88\n",
      "Chintu   22     92\n",
      "Potter   23     95\n"
     ]
    }
   ],
   "source": [
    "df1 = pd.DataFrame({\n",
    "    'Age': [21, 22, 23]\n",
    "}, index=['Sonu', 'Chintu', 'Potter'])\n",
    "\n",
    "df2 = pd.DataFrame({\n",
    "    'Score': [88, 92, 95]\n",
    "}, index=['Sonu', 'Chintu', 'Potter'])\n",
    "\n",
    "print(df1.join(df2))"
   ]
  },
  {
   "cell_type": "code",
   "execution_count": 25,
   "id": "ee80a243-4544-4194-b143-e06db0a33a95",
   "metadata": {},
   "outputs": [
    {
     "name": "stdout",
     "output_type": "stream",
     "text": [
      "     Name     City\n",
      "0    Sonu    Delhi\n",
      "1  Chintu   Mumbai\n",
      "0  Potter     Pune\n",
      "1   Daksh  Kolkata\n"
     ]
    }
   ],
   "source": [
    "df1 = pd.DataFrame({\n",
    "    'Name': ['Sonu', 'Chintu'],\n",
    "    'City': ['Delhi', 'Mumbai']\n",
    "})\n",
    "\n",
    "df2 = pd.DataFrame({\n",
    "    'Name': ['Potter', 'Daksh'],\n",
    "    'City': ['Pune', 'Kolkata']\n",
    "})\n",
    "\n",
    "print(pd.concat([df1, df2], axis=0))\n"
   ]
  },
  {
   "cell_type": "code",
   "execution_count": 45,
   "id": "cc874a6e-710c-4553-86cd-602e5be9a430",
   "metadata": {},
   "outputs": [
    {
     "name": "stdout",
     "output_type": "stream",
     "text": [
      "City        Delhi  Mumbai\n",
      "Date                     \n",
      "2024-05-12   22.0    25.0\n",
      "2024-05-23   23.0     NaN\n"
     ]
    }
   ],
   "source": [
    "df = pd.DataFrame({\n",
    "    'Date': ['2024-05-12', '2024-05-12', '2024-05-23'],\n",
    "    'City': ['Delhi', 'Mumbai', 'Delhi'],\n",
    "    'Temp': [22, 25, 23]\n",
    "})\n",
    "\n",
    "print(df.pivot(index='Date', columns='City', values='Temp'))"
   ]
  },
  {
   "cell_type": "code",
   "execution_count": null,
   "id": "4516daf9-2c9a-4fbe-8175-52a3ac8596e9",
   "metadata": {},
   "outputs": [],
   "source": []
  }
 ],
 "metadata": {
  "kernelspec": {
   "display_name": "Python [conda env:base] *",
   "language": "python",
   "name": "conda-base-py"
  },
  "language_info": {
   "codemirror_mode": {
    "name": "ipython",
    "version": 3
   },
   "file_extension": ".py",
   "mimetype": "text/x-python",
   "name": "python",
   "nbconvert_exporter": "python",
   "pygments_lexer": "ipython3",
   "version": "3.11.7"
  }
 },
 "nbformat": 4,
 "nbformat_minor": 5
}
