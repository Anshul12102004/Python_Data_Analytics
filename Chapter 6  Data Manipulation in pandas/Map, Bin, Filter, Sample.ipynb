{
 "cells": [
  {
   "cell_type": "code",
   "execution_count": 13,
   "id": "d7413d6e-c3c6-4f58-b0b7-1b520f0fcb16",
   "metadata": {},
   "outputs": [
    {
     "name": "stdout",
     "output_type": "stream",
     "text": [
      "Original Data:\n",
      "      Name  Marks\n",
      "0    Sonu     45\n",
      "1  Chintu     72\n",
      "2  Potter     88\n",
      "\n",
      "After Map (Bonus Marks):\n",
      "      Name  Marks  Bonus_Marks\n",
      "0    Sonu     45           50\n",
      "1  Chintu     72           77\n",
      "2  Potter     88           93\n"
     ]
    }
   ],
   "source": [
    "import pandas as pd\n",
    "\n",
    "df = pd.DataFrame({\n",
    "    'Name': ['Sonu', 'Chintu', 'Potter'],\n",
    "    'Marks': [45, 72, 88]\n",
    "})\n",
    "\n",
    "print(f\"Original Data:\\n\",df)\n",
    "df['Bonus_Marks'] = df['Marks'].map(lambda x: x + 5)\n",
    "\n",
    "print(\"\\nAfter Map (Bonus Marks):\\n\",df[['Name', 'Marks', 'Bonus_Marks']])"
   ]
  },
  {
   "cell_type": "code",
   "execution_count": 14,
   "id": "2500c47a-bae6-4147-858e-7494b00fc95e",
   "metadata": {},
   "outputs": [
    {
     "name": "stdout",
     "output_type": "stream",
     "text": [
      "0     Low\n",
      "1    High\n",
      "2    High\n",
      "Name: Marks, dtype: category\n",
      "Categories (3, object): ['Low' < 'Medium' < 'High']\n"
     ]
    }
   ],
   "source": [
    "print(pd.cut(df['Marks'], bins=[0, 50, 70, 100], labels=['Low', 'Medium', 'High']))\n"
   ]
  },
  {
   "cell_type": "code",
   "execution_count": 15,
   "id": "c4dd3a87-7c3f-4c9d-aa60-505ed4813407",
   "metadata": {},
   "outputs": [
    {
     "name": "stdout",
     "output_type": "stream",
     "text": [
      "     Name  Marks  Bonus_Marks\n",
      "2  Potter     88           93\n"
     ]
    }
   ],
   "source": [
    "print(df[df['Marks'] > 75])"
   ]
  },
  {
   "cell_type": "code",
   "execution_count": 16,
   "id": "ddb5c70b-6a9f-4577-ae6c-edc5d43f600c",
   "metadata": {},
   "outputs": [
    {
     "name": "stdout",
     "output_type": "stream",
     "text": [
      "     Name  Marks  Bonus_Marks\n",
      "2  Potter     88           93\n",
      "1  Chintu     72           77\n"
     ]
    }
   ],
   "source": [
    "print(df.sample(n=2))"
   ]
  },
  {
   "cell_type": "code",
   "execution_count": null,
   "id": "b5ab3350-9a89-4559-bf45-c747c615148c",
   "metadata": {},
   "outputs": [],
   "source": []
  }
 ],
 "metadata": {
  "kernelspec": {
   "display_name": "Python [conda env:base] *",
   "language": "python",
   "name": "conda-base-py"
  },
  "language_info": {
   "codemirror_mode": {
    "name": "ipython",
    "version": 3
   },
   "file_extension": ".py",
   "mimetype": "text/x-python",
   "name": "python",
   "nbconvert_exporter": "python",
   "pygments_lexer": "ipython3",
   "version": "3.11.7"
  }
 },
 "nbformat": 4,
 "nbformat_minor": 5
}
