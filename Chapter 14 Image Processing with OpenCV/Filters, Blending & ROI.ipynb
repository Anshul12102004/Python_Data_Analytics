{
 "cells": [
  {
   "cell_type": "code",
   "execution_count": 11,
   "id": "d8c87620-605e-4dc3-baac-8a5aa6c0603a",
   "metadata": {},
   "outputs": [
    {
     "data": {
      "text/plain": [
       "True"
      ]
     },
     "execution_count": 11,
     "metadata": {},
     "output_type": "execute_result"
    }
   ],
   "source": [
    "import cv2\n",
    "import numpy as np\n",
    "import matplotlib.pyplot as plt\n",
    "\n",
    "img1 = cv2.imread('Football Players.png')\n",
    "img2 = cv2.imread('Football.png')\n",
    "img2 = cv2.resize(img2, (img1.shape[1], img1.shape[0]))\n",
    "\n",
    "cv2.putText(img1, \"Football Players\", (20, 30), cv2.FONT_HERSHEY_SIMPLEX, 1, (255,255,255), 2)\n",
    "cv2.putText(img2, \"Football\", (20, 30), cv2.FONT_HERSHEY_SIMPLEX, 1, (255,255,255), 2)\n",
    "\n",
    "blurred = cv2.GaussianBlur(img1, (15, 15), 0)\n",
    "\n",
    "blended = cv2.addWeighted(img1, 0.6, img2, 0.4, 0)\n",
    "\n",
    "h, w = img1.shape[:2]\n",
    "roi = img1[h//4:3*h//4, w//4:3*w//4]\n",
    "\n",
    "cv2.imwrite('blurred.jpg', blurred)\n",
    "cv2.imwrite('blended.jpg', blended)\n",
    "cv2.imwrite('roi.jpg', roi)"
   ]
  }
 ],
 "metadata": {
  "kernelspec": {
   "display_name": "Python [conda env:base] *",
   "language": "python",
   "name": "conda-base-py"
  },
  "language_info": {
   "codemirror_mode": {
    "name": "ipython",
    "version": 3
   },
   "file_extension": ".py",
   "mimetype": "text/x-python",
   "name": "python",
   "nbconvert_exporter": "python",
   "pygments_lexer": "ipython3",
   "version": "3.11.7"
  }
 },
 "nbformat": 4,
 "nbformat_minor": 5
}
