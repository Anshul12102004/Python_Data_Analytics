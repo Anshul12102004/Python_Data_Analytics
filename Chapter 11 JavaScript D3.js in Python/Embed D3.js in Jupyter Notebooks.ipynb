{
 "cells": [
  {
   "cell_type": "code",
   "execution_count": 13,
   "id": "ecfa2fa4-eb7c-4253-88ac-3f35858a72d5",
   "metadata": {},
   "outputs": [
    {
     "data": {
      "text/html": [
       "\n",
       "<div id=\"chart\"></div>\n",
       "<script src=\"https://d3js.org/d3.v7.min.js\"></script>\n",
       "<script>\n",
       "  // Wait for the DOM to be ready\n",
       "  setTimeout(function() {\n",
       "    const data = [10, 15, 20, 25, 30];\n",
       "    const svg = d3.select(\"#chart\")\n",
       "                  .append(\"svg\")\n",
       "                  .attr(\"width\", 200)\n",
       "                  .attr(\"height\", 100);\n",
       "\n",
       "    svg.selectAll(\"rect\")\n",
       "       .data(data)\n",
       "       .enter()\n",
       "       .append(\"rect\")\n",
       "       .attr(\"x\", (d, i) => i * 30)\n",
       "       .attr(\"y\", d => 100 - d * 3)\n",
       "       .attr(\"width\", 25)\n",
       "       .attr(\"height\", d => d * 3)\n",
       "       .attr(\"fill\", \"steelblue\");\n",
       "  }, 100); // Small delay to ensure DOM is ready\n",
       "</script>\n"
      ],
      "text/plain": [
       "<IPython.core.display.HTML object>"
      ]
     },
     "metadata": {},
     "output_type": "display_data"
    }
   ],
   "source": [
    "from IPython.display import display, HTML\n",
    "\n",
    "# Enable JavaScript to run properly in the notebook\n",
    "from IPython.core.display import Javascript\n",
    "\n",
    "d3_code = \"\"\"\n",
    "<div id=\"chart\"></div>\n",
    "<script src=\"https://d3js.org/d3.v7.min.js\"></script>\n",
    "<script>\n",
    "  // Wait for the DOM to be ready\n",
    "  setTimeout(function() {\n",
    "    const data = [10, 15, 20, 25, 30];\n",
    "    const svg = d3.select(\"#chart\")\n",
    "                  .append(\"svg\")\n",
    "                  .attr(\"width\", 200)\n",
    "                  .attr(\"height\", 100);\n",
    "\n",
    "    svg.selectAll(\"rect\")\n",
    "       .data(data)\n",
    "       .enter()\n",
    "       .append(\"rect\")\n",
    "       .attr(\"x\", (d, i) => i * 30)\n",
    "       .attr(\"y\", d => 100 - d * 3)\n",
    "       .attr(\"width\", 25)\n",
    "       .attr(\"height\", d => d * 3)\n",
    "       .attr(\"fill\", \"steelblue\");\n",
    "  }, 100); // Small delay to ensure DOM is ready\n",
    "</script>\n",
    "\"\"\"\n",
    "display(HTML(d3_code))\n"
   ]
  }
 ],
 "metadata": {
  "kernelspec": {
   "display_name": "Python [conda env:base] *",
   "language": "python",
   "name": "conda-base-py"
  },
  "language_info": {
   "codemirror_mode": {
    "name": "ipython",
    "version": 3
   },
   "file_extension": ".py",
   "mimetype": "text/x-python",
   "name": "python",
   "nbconvert_exporter": "python",
   "pygments_lexer": "ipython3",
   "version": "3.11.7"
  }
 },
 "nbformat": 4,
 "nbformat_minor": 5
}
