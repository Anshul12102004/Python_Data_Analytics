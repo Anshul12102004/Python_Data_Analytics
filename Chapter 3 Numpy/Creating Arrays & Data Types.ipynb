{
 "cells": [
  {
   "cell_type": "code",
   "execution_count": 11,
   "id": "5d2483c0-b709-4973-a0ac-846094ca8bd0",
   "metadata": {},
   "outputs": [
    {
     "name": "stdout",
     "output_type": "stream",
     "text": [
      "1D Array:[1 2 3]\n",
      "\n",
      "2D Array, float32:\n",
      "[[1. 2.]\n",
      " [3. 4.]]\n",
      "\n",
      "Data type of 1D Array: int64\n"
     ]
    }
   ],
   "source": [
    "import numpy as np\n",
    "\n",
    "#1D array \n",
    "a = np.array([1, 2, 3])\n",
    "\n",
    "#2D array with explicitly specified data type (float32)\n",
    "b = np.array([[1, 2], [3, 4]], dtype='float32')\n",
    "\n",
    "# Print the arrays\n",
    "print(f\"1D Array:{a}\\n\")\n",
    "print(f\"2D Array, float32:\\n{b}\\n\")\n",
    "\n",
    "# Print the data type of 'a'\n",
    "print(\"Data type of 1D Array:\", a.dtype)"
   ]
  }
 ],
 "metadata": {
  "kernelspec": {
   "display_name": "Python 3 (ipykernel)",
   "language": "python",
   "name": "python3"
  },
  "language_info": {
   "codemirror_mode": {
    "name": "ipython",
    "version": 3
   },
   "file_extension": ".py",
   "mimetype": "text/x-python",
   "name": "python",
   "nbconvert_exporter": "python",
   "pygments_lexer": "ipython3",
   "version": "3.10.12"
  }
 },
 "nbformat": 4,
 "nbformat_minor": 5
}
