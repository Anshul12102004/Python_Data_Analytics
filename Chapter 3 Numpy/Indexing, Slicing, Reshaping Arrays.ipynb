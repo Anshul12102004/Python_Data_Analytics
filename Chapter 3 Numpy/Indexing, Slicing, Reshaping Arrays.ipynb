{
 "cells": [
  {
   "cell_type": "code",
   "execution_count": 8,
   "id": "b3162cf6-d907-4071-9a9b-14b887ac915b",
   "metadata": {},
   "outputs": [
    {
     "name": "stdout",
     "output_type": "stream",
     "text": [
      "Indexing:20\n",
      "\n",
      "Slicing:[1 3]\n",
      "\n",
      "Column slicing:\n",
      "[[2 3]\n",
      " [5 6]]\n",
      "\n",
      "Reshaped:\n",
      "[[1 2 3]\n",
      " [4 5 6]]\n",
      "\n",
      "Flattened: [1 2 3 4 5 6]\n"
     ]
    }
   ],
   "source": [
    "import numpy as np\n",
    "\n",
    "# 1. Accessing a specific element from a 2D array\n",
    "a = np.array([[10, 20], [30, 40]])\n",
    "print(f\"Indexing:{a[0, 1]}\\n\")\n",
    "\n",
    "# 2. Slicing a 1D array\n",
    "b = np.array([0, 1, 2, 3, 4, 5])\n",
    "print(f\"Slicing:{b[1:5:2]}\\n\")\n",
    "\n",
    "# 3. Column slicing in a 2D array\n",
    "c = np.array([[1, 2, 3], [4, 5, 6]])\n",
    "print(f\"Column slicing:\\n{c[:, 1:]}\\n\")\n",
    "\n",
    "# 4. Reshaping and flattening an array\n",
    "d = np.array([1, 2, 3, 4, 5, 6])\n",
    "d2 = d.reshape((2, 3))\n",
    "print(f\"Reshaped:\\n{d2}\\n\")\n",
    "print(\"Flattened:\", d2.ravel())"
   ]
  },
  {
   "cell_type": "code",
   "execution_count": null,
   "id": "3b420e83-0cf1-4246-b973-dc0e08118758",
   "metadata": {},
   "outputs": [],
   "source": []
  }
 ],
 "metadata": {
  "kernelspec": {
   "display_name": "Python 3 (ipykernel)",
   "language": "python",
   "name": "python3"
  },
  "language_info": {
   "codemirror_mode": {
    "name": "ipython",
    "version": 3
   },
   "file_extension": ".py",
   "mimetype": "text/x-python",
   "name": "python",
   "nbconvert_exporter": "python",
   "pygments_lexer": "ipython3",
   "version": "3.10.12"
  }
 },
 "nbformat": 4,
 "nbformat_minor": 5
}
