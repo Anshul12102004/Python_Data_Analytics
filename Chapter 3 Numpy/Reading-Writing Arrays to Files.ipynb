{
 "cells": [
  {
   "cell_type": "code",
   "execution_count": 9,
   "id": "a7010702-d38f-4feb-be12-44eff0b58a97",
   "metadata": {},
   "outputs": [
    {
     "name": "stdout",
     "output_type": "stream",
     "text": [
      "Loaded from .npy file:[1 2 3]\n",
      "\n",
      "Loaded from .txt file:[1. 2. 3.]\n",
      "\n",
      "Data loaded from xyz.csv:\n",
      "[[ 1.  12.   1.4 23. ]\n",
      " [ 2.  11.   0.5 18. ]\n",
      " [ 3.  16.   2.1 19. ]]\n",
      "\n"
     ]
    }
   ],
   "source": [
    "import numpy as np\n",
    "\n",
    "#Create an array\n",
    "a = np.array([1, 2, 3])\n",
    "\n",
    "#Save the array to .npy and .txt files\n",
    "np.save('xyz.npy', a)\n",
    "np.savetxt('xyz.txt', a)\n",
    "\n",
    "#Load the array from .npy file\n",
    "b = np.load('xyz.npy')\n",
    "print(f\"Loaded from .npy file:{b}\\n\")\n",
    "\n",
    "#Load the array from .txt file\n",
    "b_txt = np.loadtxt('xyz.txt')\n",
    "print(f\"Loaded from .txt file:{b_txt}\\n\")\n",
    "\n",
    "#Read data from a CSV file using genfromtxt\n",
    "data = np.genfromtxt('xyz.csv', delimiter=',')\n",
    "print(f\"Data loaded from xyz.csv:\\n{data}\\n\")"
   ]
  },
  {
   "cell_type": "code",
   "execution_count": null,
   "id": "e7a13ba1-ad56-45dc-90ce-cba02ebf5e6f",
   "metadata": {},
   "outputs": [],
   "source": []
  }
 ],
 "metadata": {
  "kernelspec": {
   "display_name": "Python 3 (ipykernel)",
   "language": "python",
   "name": "python3"
  },
  "language_info": {
   "codemirror_mode": {
    "name": "ipython",
    "version": 3
   },
   "file_extension": ".py",
   "mimetype": "text/x-python",
   "name": "python",
   "nbconvert_exporter": "python",
   "pygments_lexer": "ipython3",
   "version": "3.10.12"
  }
 },
 "nbformat": 4,
 "nbformat_minor": 5
}
