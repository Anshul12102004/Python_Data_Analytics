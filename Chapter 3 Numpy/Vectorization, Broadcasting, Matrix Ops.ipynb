{
 "cells": [
  {
   "cell_type": "code",
   "execution_count": 4,
   "id": "d39e2a5b-cc1a-4194-9e00-277f8f8f1460",
   "metadata": {},
   "outputs": [
    {
     "name": "stdout",
     "output_type": "stream",
     "text": [
      "Vectorization: [11 12 13]\n",
      "\n",
      "Broadcasting:\n",
      " [[2 2 4]\n",
      " [5 5 7]]\n",
      "\n",
      "Matrix multiplication:\n",
      " [[19 22]\n",
      " [43 50]]\n",
      "\n",
      "Element-wise multiplication:\n",
      " [[ 5 12]\n",
      " [21 32]]\n"
     ]
    }
   ],
   "source": [
    "import numpy as np\n",
    "\n",
    "#Vectorization: Element-wise addition with scalar\n",
    "a = np.array([1, 2, 3])\n",
    "b = a + 10\n",
    "print(\"Vectorization:\", b)\n",
    "\n",
    "#Broadcasting: Adding 1D array to 2D array\n",
    "a = np.array([[1, 2, 3],\n",
    "              [4, 5, 6]])\n",
    "b = np.array([1, 0, 1])\n",
    "print(\"\\nBroadcasting:\\n\", a + b)\n",
    "\n",
    "#Matrix multiplication using np.dot\n",
    "a = np.array([[1, 2], [3, 4]])\n",
    "b = np.array([[5, 6], [7, 8]])\n",
    "result = np.dot(a, b)\n",
    "print(\"\\nMatrix multiplication:\\n\", result)\n",
    "\n",
    "#Element-wise multiplication\n",
    "a = np.array([[1, 2], [3, 4]])\n",
    "b = np.array([[5, 6], [7, 8]])\n",
    "result = a * b\n",
    "print(\"\\nElement-wise multiplication:\\n\", result)"
   ]
  },
  {
   "cell_type": "code",
   "execution_count": null,
   "id": "31ce9a99-0013-4b84-9c72-278cc26b5f1f",
   "metadata": {},
   "outputs": [],
   "source": []
  }
 ],
 "metadata": {
  "kernelspec": {
   "display_name": "Python 3 (ipykernel)",
   "language": "python",
   "name": "python3"
  },
  "language_info": {
   "codemirror_mode": {
    "name": "ipython",
    "version": 3
   },
   "file_extension": ".py",
   "mimetype": "text/x-python",
   "name": "python",
   "nbconvert_exporter": "python",
   "pygments_lexer": "ipython3",
   "version": "3.10.12"
  }
 },
 "nbformat": 4,
 "nbformat_minor": 5
}
