{
 "cells": [
  {
   "cell_type": "code",
   "execution_count": 3,
   "metadata": {
    "colab": {
     "base_uri": "https://localhost:8080/"
    },
    "id": "w1L2GIA4oz8i",
    "outputId": "19094981-d385-42ba-ddf1-2801e9701840"
   },
   "outputs": [
    {
     "name": "stdout",
     "output_type": "stream",
     "text": [
      "5\n",
      "\n",
      "[1 2 3]\n",
      "\n",
      "[[1 2]\n",
      " [3 4]]\n",
      "\n",
      "[[[0.44063938 0.23931599 0.6029122  0.6066133 ]\n",
      "  [0.239663   0.96391296 0.28881228 0.6458893 ]\n",
      "  [0.33104157 0.53886974 0.260633   0.25020576]]\n",
      "\n",
      " [[0.21134794 0.58135855 0.98154616 0.3980441 ]\n",
      "  [0.47161818 0.06000829 0.17783403 0.90665257]\n",
      "  [0.7551844  0.7231742  0.67384565 0.20821714]]]\n"
     ]
    }
   ],
   "source": [
    "import tensorflow as tf\n",
    "\n",
    "# Scalar\n",
    "a = tf.constant(5)\n",
    "\n",
    "# Vector\n",
    "b = tf.constant([1, 2, 3])\n",
    "\n",
    "# Matrix\n",
    "c = tf.constant([[1, 2], [3, 4]])\n",
    "\n",
    "# Tensor\n",
    "d = tf.random.uniform([2, 3, 4])  # 3D tensor\n",
    "\n",
    "print(f\"{a}\\n\\n{b}\\n\\n{c}\\n\\n{d}\")\n"
   ]
  }
 ],
 "metadata": {
  "colab": {
   "provenance": []
  },
  "kernelspec": {
   "display_name": "Python 3 (ipykernel)",
   "language": "python",
   "name": "python3"
  },
  "language_info": {
   "codemirror_mode": {
    "name": "ipython",
    "version": 3
   },
   "file_extension": ".py",
   "mimetype": "text/x-python",
   "name": "python",
   "nbconvert_exporter": "python",
   "pygments_lexer": "ipython3",
   "version": "3.11.7"
  }
 },
 "nbformat": 4,
 "nbformat_minor": 4
}
