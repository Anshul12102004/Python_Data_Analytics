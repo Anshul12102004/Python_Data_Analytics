{
 "cells": [
  {
   "cell_type": "code",
   "execution_count": 5,
   "id": "1ce8f6f1-db22-4083-8d1b-856f3d904679",
   "metadata": {},
   "outputs": [
    {
     "name": "stdout",
     "output_type": "stream",
     "text": [
      "[0]\n"
     ]
    }
   ],
   "source": [
    "from sklearn.neighbors import KNeighborsClassifier\n",
    "\n",
    "X = [[1], [2], [3], [6], [7], [8]]\n",
    "y = [0, 0, 0, 1, 1, 1]  # 0 = class A, 1 = class B\n",
    "\n",
    "model = KNeighborsClassifier(n_neighbors=3)\n",
    "model.fit(X, y)\n",
    "\n",
    "print(model.predict([[4]]))"
   ]
  },
  {
   "cell_type": "code",
   "execution_count": 8,
   "id": "d421ce3c-0631-462b-8e45-0e00dc766380",
   "metadata": {},
   "outputs": [
    {
     "name": "stdout",
     "output_type": "stream",
     "text": [
      "[10.]\n"
     ]
    }
   ],
   "source": [
    "from sklearn.linear_model import LinearRegression\n",
    "\n",
    "X = [[1], [2], [3], [4]]\n",
    "y = [2, 4, 6, 8]\n",
    "\n",
    "model = LinearRegression()\n",
    "model.fit(X, y)\n",
    "\n",
    "print(model.predict([[5]]))  "
   ]
  },
  {
   "cell_type": "code",
   "execution_count": null,
   "id": "212731fa-6f52-4a38-81c1-1aa4ae2e7c81",
   "metadata": {},
   "outputs": [],
   "source": []
  }
 ],
 "metadata": {
  "kernelspec": {
   "display_name": "Python [conda env:base] *",
   "language": "python",
   "name": "conda-base-py"
  },
  "language_info": {
   "codemirror_mode": {
    "name": "ipython",
    "version": 3
   },
   "file_extension": ".py",
   "mimetype": "text/x-python",
   "name": "python",
   "nbconvert_exporter": "python",
   "pygments_lexer": "ipython3",
   "version": "3.11.7"
  }
 },
 "nbformat": 4,
 "nbformat_minor": 5
}
