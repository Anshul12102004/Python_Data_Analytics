{
 "cells": [
  {
   "cell_type": "code",
   "execution_count": 4,
   "id": "a234fc69-8945-4f2f-a4ae-d1e0b46ac1e6",
   "metadata": {},
   "outputs": [
    {
     "name": "stdout",
     "output_type": "stream",
     "text": [
      "[0]\n"
     ]
    }
   ],
   "source": [
    "from sklearn import svm\n",
    "\n",
    "X = [[1, 2], [2, 3], [3, 3], [6, 5], [7, 8]]\n",
    "y = [0, 0, 0, 1, 1]  # Two classes\n",
    "\n",
    "model = svm.SVC(kernel='linear')\n",
    "model.fit(X, y)\n",
    "\n",
    "print(model.predict([[4, 4]]))"
   ]
  },
  {
   "cell_type": "code",
   "execution_count": 7,
   "id": "a2280c69-38f6-4192-972b-f0fcd3ff7fc2",
   "metadata": {},
   "outputs": [
    {
     "name": "stdout",
     "output_type": "stream",
     "text": [
      "[9.83333333]\n"
     ]
    }
   ],
   "source": [
    "from sklearn.svm import SVR\n",
    "\n",
    "X = [[1], [2], [3], [4]]\n",
    "y = [2, 4, 6, 8]\n",
    "\n",
    "model = SVR(kernel='linear')\n",
    "model.fit(X, y)\n",
    "\n",
    "print(model.predict([[5]]))"
   ]
  },
  {
   "cell_type": "code",
   "execution_count": null,
   "id": "03ea3573-d07d-47c7-8525-1f5e6657e742",
   "metadata": {},
   "outputs": [],
   "source": []
  },
  {
   "cell_type": "code",
   "execution_count": null,
   "id": "2dcdb108-abac-4c55-bd4c-41e43aff204b",
   "metadata": {},
   "outputs": [],
   "source": []
  }
 ],
 "metadata": {
  "kernelspec": {
   "display_name": "Python [conda env:base] *",
   "language": "python",
   "name": "conda-base-py"
  },
  "language_info": {
   "codemirror_mode": {
    "name": "ipython",
    "version": 3
   },
   "file_extension": ".py",
   "mimetype": "text/x-python",
   "name": "python",
   "nbconvert_exporter": "python",
   "pygments_lexer": "ipython3",
   "version": "3.11.7"
  }
 },
 "nbformat": 4,
 "nbformat_minor": 5
}
