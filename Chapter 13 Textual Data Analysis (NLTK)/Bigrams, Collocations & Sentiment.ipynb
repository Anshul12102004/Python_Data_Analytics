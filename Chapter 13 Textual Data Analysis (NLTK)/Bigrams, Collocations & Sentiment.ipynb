{
 "cells": [
  {
   "cell_type": "code",
   "execution_count": 4,
   "id": "75a35745-9464-4ae1-88c0-2b3bd0a4729f",
   "metadata": {},
   "outputs": [
    {
     "name": "stdout",
     "output_type": "stream",
     "text": [
      "[('data', 'science'), ('science', 'is'), ('is', 'fun')]\n"
     ]
    }
   ],
   "source": [
    "from nltk import bigrams\n",
    "\n",
    "tokens = ['data', 'science', 'is', 'fun']\n",
    "bi = list(bigrams(tokens))\n",
    "print(bi)"
   ]
  },
  {
   "cell_type": "code",
   "execution_count": 8,
   "id": "8a99589f-cdbf-480d-9845-cee57bc849f5",
   "metadata": {},
   "outputs": [
    {
     "name": "stdout",
     "output_type": "stream",
     "text": [
      "[('data', 'science'), ('is', 'fun'), ('science', 'is')]\n"
     ]
    }
   ],
   "source": [
    "from nltk.collocations import BigramCollocationFinder\n",
    "from nltk.metrics import BigramAssocMeasures\n",
    "\n",
    "finder = BigramCollocationFinder.from_words(tokens)\n",
    "top_collocations = finder.nbest(BigramAssocMeasures.likelihood_ratio, 5)\n",
    "print(top_collocations)"
   ]
  },
  {
   "cell_type": "code",
   "execution_count": 14,
   "id": "a5973d33-553f-40e6-963a-17a016c7568a",
   "metadata": {},
   "outputs": [
    {
     "name": "stdout",
     "output_type": "stream",
     "text": [
      "Sentiment(polarity=0.625, subjectivity=0.6)\n"
     ]
    }
   ],
   "source": [
    "from textblob import TextBlob\n",
    "\n",
    "text = \"I absolutely love learning data science!\"\n",
    "blob = TextBlob(text)\n",
    "print(blob.sentiment)"
   ]
  }
 ],
 "metadata": {
  "kernelspec": {
   "display_name": "Python [conda env:base] *",
   "language": "python",
   "name": "conda-base-py"
  },
  "language_info": {
   "codemirror_mode": {
    "name": "ipython",
    "version": 3
   },
   "file_extension": ".py",
   "mimetype": "text/x-python",
   "name": "python",
   "nbconvert_exporter": "python",
   "pygments_lexer": "ipython3",
   "version": "3.11.7"
  }
 },
 "nbformat": 4,
 "nbformat_minor": 5
}
