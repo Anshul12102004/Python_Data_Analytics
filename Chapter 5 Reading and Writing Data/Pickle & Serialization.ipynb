{
 "cells": [
  {
   "cell_type": "code",
   "execution_count": 6,
   "id": "0b97eef4-4b53-4068-9e54-25d2b55d8cb6",
   "metadata": {},
   "outputs": [
    {
     "name": "stdout",
     "output_type": "stream",
     "text": [
      "    Name  Age\n",
      "0  Alice   22\n",
      "1    Bob   25\n"
     ]
    }
   ],
   "source": [
    "import _pickle as pickle\n",
    "import pandas as pd\n",
    "df_loaded = pd.read_pickle('data.pkl')\n",
    "print(df_loaded)"
   ]
  },
  {
   "cell_type": "code",
   "execution_count": null,
   "id": "77f07e4f-a966-48d5-a67b-bcf6d431178b",
   "metadata": {},
   "outputs": [],
   "source": []
  }
 ],
 "metadata": {
  "kernelspec": {
   "display_name": "Python [conda env:base] *",
   "language": "python",
   "name": "conda-base-py"
  },
  "language_info": {
   "codemirror_mode": {
    "name": "ipython",
    "version": 3
   },
   "file_extension": ".py",
   "mimetype": "text/x-python",
   "name": "python",
   "nbconvert_exporter": "python",
   "pygments_lexer": "ipython3",
   "version": "3.11.7"
  }
 },
 "nbformat": 4,
 "nbformat_minor": 5
}
