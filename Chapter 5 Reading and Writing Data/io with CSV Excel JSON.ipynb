{
 "cells": [
  {
   "cell_type": "code",
   "execution_count": 4,
   "id": "dd77ee9b-02d2-43d6-be19-bd833bb163ea",
   "metadata": {},
   "outputs": [
    {
     "name": "stdout",
     "output_type": "stream",
     "text": [
      "     Name  Age\n",
      "0    sonu   22\n",
      "1  chintu   25\n"
     ]
    }
   ],
   "source": [
    "import pandas as pd\n",
    "df = pd.read_csv('data.csv')\n",
    "print(df)"
   ]
  },
  {
   "cell_type": "code",
   "execution_count": 5,
   "id": "d88df8d1-6fd3-41b8-bd23-8599320d6329",
   "metadata": {},
   "outputs": [],
   "source": [
    "df.to_csv('output.csv', index=False)"
   ]
  },
  {
   "cell_type": "code",
   "execution_count": 10,
   "id": "277c304b-a06f-46d4-9e88-17894d5325ed",
   "metadata": {},
   "outputs": [
    {
     "name": "stdout",
     "output_type": "stream",
     "text": [
      "     Name  Age\n",
      "0  chintu   22\n",
      "1    sonu   25\n"
     ]
    }
   ],
   "source": [
    "df = pd.read_excel('data.xlsx')\n",
    "print(df)\n",
    "\n",
    "df.to_excel('data_out.xlsx', index=False)\n"
   ]
  },
  {
   "cell_type": "code",
   "execution_count": 11,
   "id": "a266dcf8-f39b-4097-b69b-33a6dca6c305",
   "metadata": {},
   "outputs": [
    {
     "name": "stdout",
     "output_type": "stream",
     "text": [
      "    Name  Age\n",
      "0  Alice   22\n",
      "1    Bob   25\n",
      "None\n"
     ]
    }
   ],
   "source": [
    "df = pd.read_json('data.json')\n",
    "print(df)\n",
    "\n",
    "print(df.to_json('data_out.json', orient='records'))\n"
   ]
  },
  {
   "cell_type": "code",
   "execution_count": null,
   "id": "db10c6a0-bfd9-46b5-a91a-7adeb1c8576c",
   "metadata": {},
   "outputs": [],
   "source": []
  }
 ],
 "metadata": {
  "kernelspec": {
   "display_name": "Python [conda env:base] *",
   "language": "python",
   "name": "conda-base-py"
  },
  "language_info": {
   "codemirror_mode": {
    "name": "ipython",
    "version": 3
   },
   "file_extension": ".py",
   "mimetype": "text/x-python",
   "name": "python",
   "nbconvert_exporter": "python",
   "pygments_lexer": "ipython3",
   "version": "3.11.7"
  }
 },
 "nbformat": 4,
 "nbformat_minor": 5
}
