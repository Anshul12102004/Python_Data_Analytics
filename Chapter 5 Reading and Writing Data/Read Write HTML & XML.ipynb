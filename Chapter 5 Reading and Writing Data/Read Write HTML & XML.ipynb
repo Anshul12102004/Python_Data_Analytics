{
 "cells": [
  {
   "cell_type": "code",
   "execution_count": 8,
   "id": "389ecd00-418b-4045-a99b-b3bf011499c1",
   "metadata": {},
   "outputs": [
    {
     "name": "stdout",
     "output_type": "stream",
     "text": [
      "[    Name  Age\n",
      "0  Alice   22\n",
      "1    Bob   25]\n"
     ]
    }
   ],
   "source": [
    "import pandas as pd\n",
    "dfs = pd.read_html('data.html')\n",
    "print(dfs)\n",
    "\n",
    "df[0].to_html('output.html')"
   ]
  },
  {
   "cell_type": "code",
   "execution_count": 12,
   "id": "cae3e77d-79c8-4f17-afd7-475c0d3fe2a5",
   "metadata": {},
   "outputs": [
    {
     "name": "stdout",
     "output_type": "stream",
     "text": [
      "    Name  Age\n",
      "0  Alice   22\n",
      "1    Bob   25\n"
     ]
    }
   ],
   "source": [
    "df = pd.read_xml('data.xml')\n",
    "print(df)\n",
    "\n",
    "df.to_xml('output.xml')"
   ]
  }
 ],
 "metadata": {
  "kernelspec": {
   "display_name": "Python [conda env:base] *",
   "language": "python",
   "name": "conda-base-py"
  },
  "language_info": {
   "codemirror_mode": {
    "name": "ipython",
    "version": 3
   },
   "file_extension": ".py",
   "mimetype": "text/x-python",
   "name": "python",
   "nbconvert_exporter": "python",
   "pygments_lexer": "ipython3",
   "version": "3.11.7"
  }
 },
 "nbformat": 4,
 "nbformat_minor": 5
}
