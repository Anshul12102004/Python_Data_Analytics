{
 "cells": [
  {
   "cell_type": "code",
   "execution_count": 14,
   "id": "4fafb853-f6ec-4255-81fa-abb8fa6cfc4a",
   "metadata": {},
   "outputs": [
    {
     "name": "stdout",
     "output_type": "stream",
     "text": [
      "               Value\n",
      "Letter Number       \n",
      "A      1          10\n",
      "       2          20\n",
      "B      1          30\n",
      "       2          40\n"
     ]
    }
   ],
   "source": [
    "import pandas as pd\n",
    "index = pd.MultiIndex.from_tuples(\n",
    "    [('A', 1), ('A', 2), ('B', 1), ('B', 2)],\n",
    "    names=['Letter', 'Number'])\n",
    "\n",
    "df = pd.DataFrame({'Value': [10, 20, 30, 40]}, index=index)\n",
    "print(df)"
   ]
  },
  {
   "cell_type": "code",
   "execution_count": 17,
   "id": "8b905d3d-03af-4c19-be4a-36ba693cb189",
   "metadata": {},
   "outputs": [
    {
     "name": "stdout",
     "output_type": "stream",
     "text": [
      "        Value\n",
      "Number       \n",
      "1          10\n",
      "2          20\n",
      "\n",
      "Value    20\n",
      "Name: (A, 2), dtype: int64\n"
     ]
    }
   ],
   "source": [
    "print(f\"{df.loc['A']}\\n\"  )\n",
    "print(df.loc[('A', 2)])"
   ]
  },
  {
   "cell_type": "code",
   "execution_count": 18,
   "id": "281e5eee-bb77-48c8-8bd6-ac468212c07e",
   "metadata": {},
   "outputs": [
    {
     "name": "stdout",
     "output_type": "stream",
     "text": [
      "               Value\n",
      "Number Letter       \n",
      "1      A          10\n",
      "2      A          20\n",
      "1      B          30\n",
      "2      B          40\n",
      "\n",
      "               Value\n",
      "Letter Number       \n",
      "A      1          10\n",
      "       2          20\n",
      "B      1          30\n",
      "       2          40\n"
     ]
    }
   ],
   "source": [
    "print(f\"{df.swaplevel()}\\n\")\n",
    "print(df.sort_index())"
   ]
  },
  {
   "cell_type": "code",
   "execution_count": null,
   "id": "eb8fa367-2a07-4362-9c98-20ae92a23e65",
   "metadata": {},
   "outputs": [],
   "source": []
  }
 ],
 "metadata": {
  "kernelspec": {
   "display_name": "Python [conda env:base] *",
   "language": "python",
   "name": "conda-base-py"
  },
  "language_info": {
   "codemirror_mode": {
    "name": "ipython",
    "version": 3
   },
   "file_extension": ".py",
   "mimetype": "text/x-python",
   "name": "python",
   "nbconvert_exporter": "python",
   "pygments_lexer": "ipython3",
   "version": "3.11.7"
  }
 },
 "nbformat": 4,
 "nbformat_minor": 5
}
