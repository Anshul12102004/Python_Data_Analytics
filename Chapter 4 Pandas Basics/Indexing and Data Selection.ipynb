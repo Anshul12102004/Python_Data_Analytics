{
 "cells": [
  {
   "cell_type": "code",
   "execution_count": 12,
   "id": "588ad04f-e7ec-4d45-9717-e003e38934b8",
   "metadata": {},
   "outputs": [
    {
     "name": "stdout",
     "output_type": "stream",
     "text": [
      "0    23\n",
      "1    22\n",
      "Name: Age, dtype: int64\n",
      "\n",
      "     Name  Age\n",
      "0    sonu   23\n",
      "1  chintu   22\n"
     ]
    }
   ],
   "source": [
    "import pandas as pd\n",
    "df = pd.DataFrame({\n",
    "    'Name': ['sonu', 'chintu'],\n",
    "    'Age': [23, 22]\n",
    "})\n",
    "print(df['Age'])\n",
    "print()\n",
    "print(df[['Name','Age']])"
   ]
  },
  {
   "cell_type": "code",
   "execution_count": 14,
   "id": "5d5db036-add4-49e2-b207-f1748462948a",
   "metadata": {},
   "outputs": [
    {
     "name": "stdout",
     "output_type": "stream",
     "text": [
      "23\n"
     ]
    }
   ],
   "source": [
    "df = pd.DataFrame({\n",
    "    'Name': ['sonu', 'chintu'],\n",
    "    'Age': [23, 22]\n",
    "})\n",
    "print(df.loc[0, 'Age'])\n"
   ]
  },
  {
   "cell_type": "code",
   "execution_count": 16,
   "id": "6725366c-148f-4ddd-b5bd-4dbef918c641",
   "metadata": {},
   "outputs": [
    {
     "name": "stdout",
     "output_type": "stream",
     "text": [
      "   Name  Age\n",
      "0  sonu   26\n"
     ]
    }
   ],
   "source": [
    "df = pd.DataFrame({\n",
    "    'Name': ['sonu', 'chintu'],\n",
    "    'Age': [26, 22]\n",
    "})\n",
    "print(df[df['Age'] > 25])"
   ]
  },
  {
   "cell_type": "code",
   "execution_count": null,
   "id": "21ef8610-a816-4f2b-952f-c1edee0886b9",
   "metadata": {},
   "outputs": [],
   "source": []
  }
 ],
 "metadata": {
  "kernelspec": {
   "display_name": "Python [conda env:base] *",
   "language": "python",
   "name": "conda-base-py"
  },
  "language_info": {
   "codemirror_mode": {
    "name": "ipython",
    "version": 3
   },
   "file_extension": ".py",
   "mimetype": "text/x-python",
   "name": "python",
   "nbconvert_exporter": "python",
   "pygments_lexer": "ipython3",
   "version": "3.11.7"
  }
 },
 "nbformat": 4,
 "nbformat_minor": 5
}
