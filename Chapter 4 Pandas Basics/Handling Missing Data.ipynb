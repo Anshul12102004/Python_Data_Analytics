{
 "cells": [
  {
   "cell_type": "code",
   "execution_count": 7,
   "id": "b8c16da4-f8c0-495c-ba5a-a8c825af68f8",
   "metadata": {},
   "outputs": [
    {
     "name": "stdout",
     "output_type": "stream",
     "text": [
      "       ball  mug  pen\n",
      "blue    6.0  NaN  6.0\n",
      "green   NaN  NaN  NaN\n",
      "red     2.0  NaN  5.0\n",
      "\n",
      "        ball   mug    pen\n",
      "blue   False  True  False\n",
      "green   True  True   True\n",
      "red    False  True  False\n",
      "\n",
      "        ball    mug    pen\n",
      "blue    True  False   True\n",
      "green  False  False  False\n",
      "red     True  False   True\n",
      "\n"
     ]
    }
   ],
   "source": [
    "import pandas as pd\n",
    "import numpy as np\n",
    "df = pd.DataFrame([[6,np.nan,6],[np.nan,np.nan,np.nan],[2,np.nan,5]],\n",
    "                      index = ['blue','green','red'],\n",
    "                      columns = ['ball','mug','pen'])\n",
    "\n",
    "print(f\"{df}\\n\")\n",
    "print(f\"{df.isnull()}\\n\")\n",
    "print(f\"{df.notnull()}\\n\")\n",
    "      \n"
   ]
  },
  {
   "cell_type": "code",
   "execution_count": 14,
   "id": "0f9766ad-d3e5-44d0-96d0-b925d651561b",
   "metadata": {},
   "outputs": [
    {
     "name": "stdout",
     "output_type": "stream",
     "text": [
      "       ball  mug  pen\n",
      "blue    6.0  3.0    6\n",
      "green   NaN  NaN    4\n",
      "red     2.0  NaN    5\n",
      "\n",
      "      ball  mug  pen\n",
      "blue   6.0  3.0    6\n",
      "\n",
      "       pen\n",
      "blue     6\n",
      "green    4\n",
      "red      5\n"
     ]
    }
   ],
   "source": [
    "df = pd.DataFrame([[6,3,6],[np.nan,np.nan,4],[2,np.nan,5]],\n",
    "                      index = ['blue','green','red'],\n",
    "                      columns = ['ball','mug','pen'])\n",
    "print(f\"{df}\\n\")\n",
    "print(f\"{df.dropna()}\\n\")\n",
    "print(f\"{df.dropna(axis=1)}\")"
   ]
  },
  {
   "cell_type": "code",
   "execution_count": 19,
   "id": "cdbfda33-c895-49ad-9b38-c36b31a60641",
   "metadata": {},
   "outputs": [
    {
     "name": "stdout",
     "output_type": "stream",
     "text": [
      "       ball  mug  pen\n",
      "blue    6.0  3.0    6\n",
      "green   NaN  NaN    4\n",
      "red     2.0  NaN    5\n",
      "\n",
      "       ball  mug  pen\n",
      "blue    6.0  3.0    6\n",
      "green   0.0  0.0    4\n",
      "red     2.0  0.0    5\n",
      "\n"
     ]
    }
   ],
   "source": [
    "print(f\"{df}\\n\")\n",
    "print(f\"{df.fillna(0)}\\n\") \n",
    "print(f\"{df.fillna(method='ffill')}\\n\") \n",
    "print(f\"{df.fillna(method='bfill')}\\n\") "
   ]
  },
  {
   "cell_type": "code",
   "execution_count": null,
   "id": "92aeda3d-8d9b-4752-ac9d-f2c55deb8045",
   "metadata": {},
   "outputs": [],
   "source": []
  }
 ],
 "metadata": {
  "kernelspec": {
   "display_name": "Python [conda env:base] *",
   "language": "python",
   "name": "conda-base-py"
  },
  "language_info": {
   "codemirror_mode": {
    "name": "ipython",
    "version": 3
   },
   "file_extension": ".py",
   "mimetype": "text/x-python",
   "name": "python",
   "nbconvert_exporter": "python",
   "pygments_lexer": "ipython3",
   "version": "3.11.7"
  }
 },
 "nbformat": 4,
 "nbformat_minor": 5
}
