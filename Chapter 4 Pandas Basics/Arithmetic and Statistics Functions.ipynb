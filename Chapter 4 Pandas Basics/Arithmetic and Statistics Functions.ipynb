{
 "cells": [
  {
   "cell_type": "code",
   "execution_count": 27,
   "id": "f1e0f9d5-2420-4728-9145-4534f39a4af1",
   "metadata": {},
   "outputs": [
    {
     "name": "stdout",
     "output_type": "stream",
     "text": [
      "        ball  pen  pencil\n",
      "red        0    1       2\n",
      "blue       3    4       5\n",
      "yellow     6    7       8\n",
      "\n",
      "        ball  pen  mug\n",
      "red        0    1    2\n",
      "blue       3    4    5\n",
      "yellow     6    7    8\n",
      "\n",
      "        ball  mug  pen  pencil\n",
      "red        0  2.0    2     2.0\n",
      "blue       6  5.0    8     5.0\n",
      "yellow    12  8.0   14     8.0\n",
      "\n",
      "        ball  mug  pen  pencil\n",
      "red        0  NaN    0     NaN\n",
      "blue       0  NaN    0     NaN\n",
      "yellow     0  NaN    0     NaN\n"
     ]
    }
   ],
   "source": [
    "import pandas as pd\n",
    "df1 = pd.DataFrame(np.arange(9).reshape((3,3)),\n",
    "                   index=['red','blue','yellow'],\n",
    "                   columns=['ball','pen','pencil'])\n",
    "\n",
    "df2 = pd.DataFrame(np.arange(9).reshape((3,3)),\n",
    "                   index=['red','blue','yellow'],\n",
    "                   columns=['ball','pen','mug'])\n",
    "\n",
    "print (f\"{df1}\\n\\n{df2}\\n\")\n",
    "print(f\"{df1+df2}\\n\\n{df1-df2}\")"
   ]
  },
  {
   "cell_type": "code",
   "execution_count": 33,
   "id": "292583c6-a32e-4e8c-9185-0d2ae4cd20c5",
   "metadata": {},
   "outputs": [
    {
     "name": "stdout",
     "output_type": "stream",
     "text": [
      "df1        ball  pen  pencil\n",
      "red        0    1       2\n",
      "blue       3    4       5\n",
      "yellow     6    7       8\n",
      "\n",
      "df2        ball  pen  mug\n",
      "red        0    1    2\n",
      "blue       3    4    5\n",
      "yellow     6    7    8\n",
      "\n",
      "add        ball  mug  pen  pencil\n",
      "red        0  2.0    2     2.0\n",
      "blue       6  5.0    8     5.0\n",
      "yellow    12  8.0   14     8.0\n",
      "\n",
      "sub        ball  mug  pen  pencil\n",
      "red        0 -2.0    0     2.0\n",
      "blue       0 -5.0    0     5.0\n",
      "yellow     0 -8.0    0     8.0\n",
      "\n",
      "mul        ball  mug  pen  pencil\n",
      "red        0  0.0    1     0.0\n",
      "blue       9  0.0   16     0.0\n",
      "yellow    36  0.0   49     0.0\n",
      "\n",
      "div        ball  mug  pen  pencil\n",
      "red      NaN  0.0  1.0     inf\n",
      "blue     1.0  0.0  1.0     inf\n",
      "yellow   1.0  0.0  1.0     inf\n"
     ]
    }
   ],
   "source": [
    "df1 = pd.DataFrame(np.arange(9).reshape((3,3)),\n",
    "                   index=['red','blue','yellow'],\n",
    "                   columns=['ball','pen','pencil'])\n",
    "\n",
    "df2 = pd.DataFrame(np.arange(9).reshape((3,3)),\n",
    "                   index=['red','blue','yellow'],\n",
    "                   columns=['ball','pen','mug'])\n",
    "\n",
    "print (f\"df1{df1}\\n\\ndf2{df2}\\n\")\n",
    "print(f\"add{df1.add(df2,fill_value=0)}\\n\")\n",
    "print(f\"sub{df1.sub(df2,fill_value=0)}\\n\")\n",
    "print(f\"mul{df1.mul(df2,fill_value=0)}\\n\")\n",
    "print(f\"div{df1.div(df2,fill_value=0)}\")"
   ]
  },
  {
   "cell_type": "code",
   "execution_count": 44,
   "id": "caae1599-dbb3-45a1-b31b-c5a497bed7fa",
   "metadata": {},
   "outputs": [
    {
     "name": "stdout",
     "output_type": "stream",
     "text": [
      "df1:\n",
      "        ball  pen  pencil\n",
      "red        0    1       2\n",
      "blue       3    4       5\n",
      "yellow     6    7       8\n",
      "\n",
      "mean:\n",
      "ball      3.0\n",
      "pen       4.0\n",
      "pencil    5.0\n",
      "dtype: float64\n",
      "\n",
      "sum:\n",
      "ball       9\n",
      "pen       12\n",
      "pencil    15\n",
      "dtype: int64\n",
      "\n",
      "min:\n",
      "ball      0\n",
      "pen       1\n",
      "pencil    2\n",
      "dtype: int64\n",
      "\n",
      "max:\n",
      "ball      6\n",
      "pen       7\n",
      "pencil    8\n",
      "dtype: int64\n",
      "\n",
      "describe:\n",
      "       ball  pen  pencil\n",
      "count   3.0  3.0     3.0\n",
      "mean    3.0  4.0     5.0\n",
      "std     3.0  3.0     3.0\n",
      "min     0.0  1.0     2.0\n",
      "25%     1.5  2.5     3.5\n",
      "50%     3.0  4.0     5.0\n",
      "75%     4.5  5.5     6.5\n",
      "max     6.0  7.0     8.0\n",
      "\n"
     ]
    }
   ],
   "source": [
    "df1 = pd.DataFrame(np.arange(9).reshape((3,3)),\n",
    "                   index=['red','blue','yellow'],\n",
    "                   columns=['ball','pen','pencil'])\n",
    "print(f\"df1:\\n{df1}\\n\")\n",
    "print(f\"mean:\\n{df1.mean()}\\n\")\n",
    "print(f\"sum:\\n{df1.sum()}\\n\")\n",
    "print(f\"min:\\n{df1.min()}\\n\")\n",
    "print(f\"max:\\n{df1.max()}\\n\")\n",
    "print(f\"describe:\\n{df1.describe()}\\n\")"
   ]
  },
  {
   "cell_type": "code",
   "execution_count": 47,
   "id": "11ec3ffa-5d52-44ee-acec-bb49cd39c6d6",
   "metadata": {},
   "outputs": [
    {
     "name": "stdout",
     "output_type": "stream",
     "text": [
      "ball      3.0\n",
      "pen       4.0\n",
      "pencil    5.0\n",
      "dtype: float64\n",
      "\n",
      "red       1.0\n",
      "blue      4.0\n",
      "yellow    7.0\n",
      "dtype: float64\n"
     ]
    }
   ],
   "source": [
    "df1 = pd.DataFrame(np.arange(9).reshape((3,3)),\n",
    "                   index=['red','blue','yellow'],\n",
    "                   columns=['ball','pen','pencil'])\n",
    "print(f\"{df1.mean(axis=0)}\\n\")\n",
    "print(df1.mean(axis=1))\n"
   ]
  },
  {
   "cell_type": "code",
   "execution_count": null,
   "id": "238b05ce-c253-4847-9967-157da3d26e03",
   "metadata": {},
   "outputs": [],
   "source": []
  }
 ],
 "metadata": {
  "kernelspec": {
   "display_name": "Python [conda env:base] *",
   "language": "python",
   "name": "conda-base-py"
  },
  "language_info": {
   "codemirror_mode": {
    "name": "ipython",
    "version": 3
   },
   "file_extension": ".py",
   "mimetype": "text/x-python",
   "name": "python",
   "nbconvert_exporter": "python",
   "pygments_lexer": "ipython3",
   "version": "3.11.7"
  }
 },
 "nbformat": 4,
 "nbformat_minor": 5
}
